{
 "cells": [
  {
   "cell_type": "code",
   "execution_count": 104,
   "metadata": {
    "collapsed": true
   },
   "outputs": [],
   "source": [
    "import numpy as np\n",
    "from scipy import spatial as cs"
   ]
  },
  {
   "cell_type": "code",
   "execution_count": 89,
   "metadata": {
    "collapsed": true
   },
   "outputs": [],
   "source": [
    "def general_vector(dictionary):\n",
    "    # first make a set to ensure no duplicates are added to the vector\n",
    "    general_vector = set()\n",
    "    # self explanatory\n",
    "    for faculty, value in dictionary.items():\n",
    "        for study_name, az_link in value['studies'].items():\n",
    "            for article, keywords in az_link.items():\n",
    "                # for each keyword in this list\n",
    "                for keyword in keywords:\n",
    "                    general_vector.add(keyword)\n",
    "    # convert the set to a list for easier computation\n",
    "    return list(general_vector)"
   ]
  },
  {
   "cell_type": "code",
   "execution_count": 90,
   "metadata": {},
   "outputs": [
    {
     "name": "stdout",
     "output_type": "stream",
     "text": [
      "['test1', 'test4', 'test13', 'test3', 'test7', 'test8', 'test5', 'test10', 'test12', 'test14', 'test11', 'test6', 'test15']\n"
     ]
    }
   ],
   "source": [
    "# test for making the general vector\n",
    "testdict = {'fdg': {'full': 'Faculteit der Geneeskunde',\n",
    "  'short': 'FdG',\n",
    "  'studies': {'Geneeskunde (bachelor)': {'http://student.uva.nl/gnk/az/1': ['test1', 'test2'],  'http://student.uva.nl/gnk/az/1':['test3', 'test4', 'test5']},\n",
    "   'Geneeskunde (master)': {'http://student.uva.nl/mgnk/az/3':['test3', 'test6', 'test7', 'test1'], 'http://student.uva.nl/mgnk/az/4':['test8']}}},\n",
    "           \n",
    "            'test': {'full': 'testing',\n",
    "  'short': 't',\n",
    "  'studies': {'bachelor': {'http://student.uva.nl/gnk/az/1': ['test10', 'test12'],  'http://student.uva.nl/gnk/az/2':['test13', 'test14', 'test15']},\n",
    "   'master': {'http://student.uva.nl/mgnk/az/3':['test13', 'test6', 'test7', 'test11'], 'http://student.uva.nl/mgnk/az/4':['test8']}}}}\n",
    "\n",
    "testgv = general_vector(testdict)\n",
    "print(testgv)"
   ]
  },
  {
   "cell_type": "code",
   "execution_count": 95,
   "metadata": {},
   "outputs": [],
   "source": [
    "def vector(URL_keywords, general_vector):\n",
    "    # URL_keywords is a list of keywords for a certain URL we want a vector for\n",
    "    URL_vector = np.zeros(len(general_vector))\n",
    "    # loops through the (now zero) values of the URL vector\n",
    "    for i, val in enumerate(URL_vector):\n",
    "        # loops through the given keywords of this URL\n",
    "        for keyword in URL_keywords:\n",
    "            # if an article keyword matches a keyword in our general vector\n",
    "            if keyword == general_vector[i]:\n",
    "                # change the value of the URL vector to be 1 in the same place as the general vector\n",
    "                URL_vector[i] = 1\n",
    "    return URL_vector"
   ]
  },
  {
   "cell_type": "code",
   "execution_count": 107,
   "metadata": {},
   "outputs": [
    {
     "name": "stdout",
     "output_type": "stream",
     "text": [
      "article vector: [ 1.  1.  0.  1.  0.  1.  0.  0.  1.  1.  0.  0.  0.]\n",
      "query vector: [ 1.  0.  1.  1.  0.  0.  0.  0.  0.  1.  1.  0.  0.]\n",
      "cosine similarity: 0.547722557505\n"
     ]
    }
   ],
   "source": [
    "# test for making a vector of an article and query, and finding their cosine similarity\n",
    "query = ['test1', 'test55', 'test3', 'test14', 'test2', 'test11', 'test13']\n",
    "article = ['test1', 'test4', 'test8', 'test3', 'test14', 'test12']\n",
    "articlevector = vector(article, testgv)\n",
    "queryvector = vector(query, testgv)\n",
    "print(\"article vector:\", articlevector)\n",
    "print(\"query vector:\", queryvector)\n",
    "\n",
    "cosine_sim = 1 - cs.distance.cosine(articlevector, queryvector)\n",
    "print(\"cosine similarity:\", cosine_sim)"
   ]
  },
  {
   "cell_type": "code",
   "execution_count": null,
   "metadata": {
    "collapsed": true
   },
   "outputs": [],
   "source": []
  }
 ],
 "metadata": {
  "kernelspec": {
   "display_name": "Python 3",
   "language": "python",
   "name": "python3"
  },
  "language_info": {
   "codemirror_mode": {
    "name": "ipython",
    "version": 3
   },
   "file_extension": ".py",
   "mimetype": "text/x-python",
   "name": "python",
   "nbconvert_exporter": "python",
   "pygments_lexer": "ipython3",
   "version": "3.6.3"
  }
 },
 "nbformat": 4,
 "nbformat_minor": 2
}
