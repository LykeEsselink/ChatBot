{
 "cells": [
  {
   "cell_type": "code",
   "execution_count": 12,
   "metadata": {
    "collapsed": true
   },
   "outputs": [],
   "source": [
    "import numpy as np\n",
    "np.set_printoptions(threshold=40) #np.inf\n",
    "from scipy import spatial as cs\n",
    "import json\n",
    "from pprint import pprint"
   ]
  },
  {
   "cell_type": "code",
   "execution_count": 2,
   "metadata": {
    "collapsed": true
   },
   "outputs": [],
   "source": [
    "def general_vector(dictionary):\n",
    "    # first make a set to ensure no duplicates are added to the vector\n",
    "    general_vector = set()\n",
    "    # self explanatory\n",
    "    for faculty, studies in data.items():\n",
    "        for study, az_link in studies.items():\n",
    "            for article, keyword_lists in az_link.items():\n",
    "                for keyword_list in keyword_lists:\n",
    "                    keywords = keyword_list.split(',')\n",
    "                    for word in keywords:\n",
    "                        general_vector.add(word)\n",
    "    return list(general_vector)"
   ]
  },
  {
   "cell_type": "code",
   "execution_count": 3,
   "metadata": {
    "collapsed": true
   },
   "outputs": [],
   "source": [
    "# test for making the general vector\n",
    "#testdict = {'fdg': {'studies': {'Geneeskunde (bachelor)': {'http://student.uva.nl/gnk/az/1': ['test1', 'test2'],  'http://student.uva.nl/gnk/az/1':['test3', 'test4', 'test5']},\n",
    "#   'Geneeskunde (master)': {'http://student.uva.nl/mgnk/az/3':['test3', 'test6', 'test7', 'test1'], 'http://student.uva.nl/mgnk/az/4':['test8']}}},\n",
    "#           \n",
    "#            'test': {'studies': {'bachelor': {'http://student.uva.nl/gnk/az/1': ['test10', 'test12'],  'http://student.uva.nl/gnk/az/2':['test13', 'test14', 'test15']},\n",
    "#   'master': {'http://student.uva.nl/mgnk/az/3':['test13', 'test6', 'test7', 'test11'], 'http://student.uva.nl/mgnk/az/4':['test8']}}}}\n",
    "\n",
    "#testgv = general_vector(testdict)\n",
    "#print(testgv)"
   ]
  },
  {
   "cell_type": "code",
   "execution_count": 4,
   "metadata": {
    "collapsed": true
   },
   "outputs": [],
   "source": [
    "def vector(URL_keywords, general_vector):\n",
    "    # URL_keywords is a list of keywords for a certain URL we want a vector for\n",
    "    URL_vector = np.zeros(len(general_vector))\n",
    "    # loops through the (now zero) values of the URL vector\n",
    "    for i, val in enumerate(URL_vector):\n",
    "        # loops through the given keywords of this URL\n",
    "        for keyword in URL_keywords:\n",
    "            # if an article keyword matches a keyword in our general vector\n",
    "            if keyword == general_vector[i]:\n",
    "                # change the value of the URL vector to be 1 in the same place as the general vector\n",
    "                URL_vector[i] = 1\n",
    "    return URL_vector"
   ]
  },
  {
   "cell_type": "code",
   "execution_count": 5,
   "metadata": {
    "collapsed": true
   },
   "outputs": [],
   "source": [
    "# test for making a vector of an article and query, and finding their cosine similarity\n",
    "#query = ['test1', 'test55', 'test3', 'test14', 'test2', 'test11', 'test13']\n",
    "#article = ['test1', 'test4', 'test8', 'test3', 'test14', 'test12']\n",
    "#articlevector = vector(article, testgv)\n",
    "#queryvector = vector(query, testgv)\n",
    "#print(\"Article vector:\", articlevector)\n",
    "#print(\"Query vector:\", queryvector)\n",
    "\n",
    "#cosine_sim = 1 - cs.distance.cosine(articlevector, queryvector)\n",
    "#print(\"Cosine similarity:\", cosine_sim)"
   ]
  },
  {
   "cell_type": "code",
   "execution_count": 6,
   "metadata": {
    "collapsed": true
   },
   "outputs": [],
   "source": [
    "#distance = cs.distance.euclidean(articlevector, queryvector)\n",
    "#distance"
   ]
  },
  {
   "cell_type": "code",
   "execution_count": 14,
   "metadata": {},
   "outputs": [],
   "source": [
    "with open('uva_json_file', 'r') as f:\n",
    "    data = json.load(f)"
   ]
  },
  {
   "cell_type": "code",
   "execution_count": 8,
   "metadata": {},
   "outputs": [],
   "source": [
    "generalvec = general_vector(data)\n",
    "#print(len(generalvec))"
   ]
  },
  {
   "cell_type": "code",
   "execution_count": 9,
   "metadata": {
    "scrolled": true
   },
   "outputs": [],
   "source": [
    "# Replace the keywords of each article with a vector\n",
    "for faculty, studies in data.items():\n",
    "    for study, az_links in studies.items():\n",
    "        for article, keyword_lists in az_links.items():\n",
    "            for keyword_list in keyword_lists:\n",
    "                keywords = keyword_list.split(',')\n",
    "                vec = vector(keywords, generalvec)\n",
    "            # save vec in list form instead of np array \n",
    "            # because arrays don't work with json\n",
    "            az_links.update({article: vec}) "
   ]
  },
  {
   "cell_type": "code",
   "execution_count": 10,
   "metadata": {
    "collapsed": true
   },
   "outputs": [],
   "source": [
    "#%%time\n",
    "#pprint(data)"
   ]
  },
  {
   "cell_type": "code",
   "execution_count": 11,
   "metadata": {
    "collapsed": true
   },
   "outputs": [],
   "source": [
    "# Save the new dictionary with vectors as a json file\n",
    "#with open(\"uva_vectors.json\", 'w') as outfile:\n",
    "#    json.dump(data, outfile)"
   ]
  }
 ],
 "metadata": {
  "kernelspec": {
   "display_name": "Python 3",
   "language": "python",
   "name": "python3"
  },
  "language_info": {
   "codemirror_mode": {
    "name": "ipython",
    "version": 3
   },
   "file_extension": ".py",
   "mimetype": "text/x-python",
   "name": "python",
   "nbconvert_exporter": "python",
   "pygments_lexer": "ipython3",
   "version": "3.6.3"
  }
 },
 "nbformat": 4,
 "nbformat_minor": 2
}
