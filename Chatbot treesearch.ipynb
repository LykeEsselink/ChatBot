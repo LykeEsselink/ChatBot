{
 "cells": [
  {
   "cell_type": "code",
   "execution_count": 19,
   "metadata": {},
   "outputs": [],
   "source": [
    "%run Vector.ipynb"
   ]
  },
  {
   "cell_type": "code",
   "execution_count": 32,
   "metadata": {
    "collapsed": true
   },
   "outputs": [],
   "source": [
    "np.set_printoptions(threshold=10) #np.inf"
   ]
  },
  {
   "cell_type": "markdown",
   "metadata": {},
   "source": [
    "## Input "
   ]
  },
  {
   "cell_type": "markdown",
   "metadata": {},
   "source": [
    "Dictionary:\n",
    "\n",
    "    Language (int):\n",
    "        0 = Nederlands       \n",
    "        1 = Engels\n",
    "              \n",
    "    Type (int):  \n",
    "        0 = Onbekend      \n",
    "        1 = Wie        \n",
    "        2 = Wat        \n",
    "        3 = Waar        \n",
    "        4 = Waarom        \n",
    "        5 = Wanneer        \n",
    "        6 = Hoe        \n",
    "        7 = Welke        \n",
    "        \n",
    "    Level (str):        \n",
    "        Studie        \n",
    "        Faculteit        \n",
    "        UvA        \n",
    "        None        \n",
    "        \n",
    "    Keywords (set):        \n",
    "        {<keyword_1>, ..., <keyword_n>}        \n",
    "        \n",
    "    Source (str):\n",
    "        <Oorspronkelijke zin>"
   ]
  },
  {
   "cell_type": "markdown",
   "metadata": {},
   "source": [
    "We assume that for this specific problem (only searching the tree we have established) we actually only need the keywords provided from the input query. The reason for this is that the keywords of the articles we have are a mix of both Dutch and English and will therefore automatically return the right URL. The type is irrelevant for this problem as we only have access to the keywords of the articles because we have not scraped the entire texts. Therefore, we are unable to parse what kind of question a person is asking, this will be handled in our other solution of using Watson to find the right text. \n",
    "The source is also not relevant as we have the keywords necessary."
   ]
  },
  {
   "cell_type": "code",
   "execution_count": 110,
   "metadata": {
    "collapsed": true
   },
   "outputs": [],
   "source": [
    "query = {'Language':0, \n",
    "         'Type':0, \n",
    "         'Level':'Kunstmatige intelligentie (bachelor)', \n",
    "         'Keywords':set(['laptop', 'eisen', 'kunstmatige', 'intelligentie']), \n",
    "         'Source':'Wat zijn de laptop eisen voor kunstmatige intelligentie?'}"
   ]
  },
  {
   "cell_type": "code",
   "execution_count": 115,
   "metadata": {},
   "outputs": [],
   "source": [
    "def analyse_query(query):\n",
    "    keywords = list(query.get('Keywords'))\n",
    "    level = query.get('Level')\n",
    "    queryvec = vector(keywords, generalvec)\n",
    "    return queryvec, level, keywords"
   ]
  },
  {
   "cell_type": "code",
   "execution_count": 114,
   "metadata": {},
   "outputs": [],
   "source": [
    "def search_tree(data, queryvec, level):\n",
    "    topdict = {}\n",
    "    value = []\n",
    "    highest = 0\n",
    "    for faculty, studies in data.items():\n",
    "        for study, az_links in studies.items():\n",
    "            #if study == level:\n",
    "            for article, articlevec in az_links.items():\n",
    "                cosinesim = 1 - cs.distance.cosine(articlevec, queryvec)\n",
    "                if cosinesim > highest:\n",
    "                    #highest = cosinesim\n",
    "                    topdict.update({article: cosinesim})\n",
    "    toplinks = sorted(topdict, key=topdict.get, reverse=True)\n",
    "    return toplinks, topdict"
   ]
  },
  {
   "cell_type": "code",
   "execution_count": 120,
   "metadata": {},
   "outputs": [],
   "source": [
    "def topresults(toplinks, topdict, level, keywords, n):\n",
    "    topndicts = []\n",
    "    for toplink in toplinks[:n]:\n",
    "        for link, score in topdict.items():\n",
    "            if toplink == link:\n",
    "                topndicts.append({'URL':link, 'Score':score, 'Level':level, 'Keywords':keywords})\n",
    "    return topndicts"
   ]
  },
  {
   "cell_type": "code",
   "execution_count": 121,
   "metadata": {},
   "outputs": [
    {
     "name": "stdout",
     "output_type": "stream",
     "text": [
      "[{'URL': 'http://www.student.uva.nl/sgpl/content/az/vak-en-tentamenaanmelding-sgp/ingangseisen/ingangseisen-kopie.html', 'Score': 0.25, 'Level': 'Kunstmatige intelligentie (bachelor)', 'Keywords': ['kunstmatige', 'laptop', 'eisen', 'intelligentie']}, {'URL': 'http://www.student.uva.nl/inc/content/az/laptop-minimumeisen/laptop-minimumeisen.html', 'Score': 0.25, 'Level': 'Kunstmatige intelligentie (bachelor)', 'Keywords': ['kunstmatige', 'laptop', 'eisen', 'intelligentie']}, {'URL': 'http://www.student.uva.nl/sgpl/content/az/ingangseisen/ingangseisen.html', 'Score': 0.23570226039551578, 'Level': 'Kunstmatige intelligentie (bachelor)', 'Keywords': ['kunstmatige', 'laptop', 'eisen', 'intelligentie']}, {'URL': 'http://www.student.uva.nl/ki/content/az/laptop-minimumeisen/laptop-minimumeisen.html', 'Score': 0.23570226039551578, 'Level': 'Kunstmatige intelligentie (bachelor)', 'Keywords': ['kunstmatige', 'laptop', 'eisen', 'intelligentie']}, {'URL': 'http://www.student.uva.nl/ifk/content/az/laptop-minimumeisen/laptop-minimumeisen.html', 'Score': 0.23570226039551578, 'Level': 'Kunstmatige intelligentie (bachelor)', 'Keywords': ['kunstmatige', 'laptop', 'eisen', 'intelligentie']}, {'URL': 'http://www.student.uva.nl/bcw/content/az/studiemateriaal-cw/studiemateriaal-cw.html', 'Score': 0.21320071635561044, 'Level': 'Kunstmatige intelligentie (bachelor)', 'Keywords': ['kunstmatige', 'laptop', 'eisen', 'intelligentie']}, {'URL': 'http://www.student.uva.nl/ca/content/az/ingangseisen-master/ingangseisen-master.html', 'Score': 0.21320071635561044, 'Level': 'Kunstmatige intelligentie (bachelor)', 'Keywords': ['kunstmatige', 'laptop', 'eisen', 'intelligentie']}, {'URL': 'http://www.student.uva.nl/pol/content/az/vak-en-tentamenaanmelding-pol/ingangseisen/ingangseisen-bachelor-politicologie-kopie.html', 'Score': 0.21320071635561044, 'Level': 'Kunstmatige intelligentie (bachelor)', 'Keywords': ['kunstmatige', 'laptop', 'eisen', 'intelligentie']}, {'URL': 'http://www.student.uva.nl/mcsa/shared/studentensites/uva-studentensite/en/az/wireless-internet/wireless-internet.html', 'Score': 0.18898223650461365, 'Level': 'Kunstmatige intelligentie (bachelor)', 'Keywords': ['kunstmatige', 'laptop', 'eisen', 'intelligentie']}, {'URL': 'http://www.student.uva.nl/rmids/shared/studentensites/uva-studentensite/en/az/wireless-internet/wireless-internet.html', 'Score': 0.18898223650461365, 'Level': 'Kunstmatige intelligentie (bachelor)', 'Keywords': ['kunstmatige', 'laptop', 'eisen', 'intelligentie']}]\n"
     ]
    }
   ],
   "source": [
    "def main(query, data, n):\n",
    "    queryvec, level, keywords = analyse_query(query)\n",
    "    toplinks, topdict = search_tree(data, queryvec, level)\n",
    "    topndicts = topresults(toplinks, topdict, level, keywords, n)\n",
    "    return topndicts\n",
    "\n",
    "print(main(query, data, 10))"
   ]
  },
  {
   "cell_type": "code",
   "execution_count": null,
   "metadata": {
    "collapsed": true
   },
   "outputs": [],
   "source": []
  }
 ],
 "metadata": {
  "kernelspec": {
   "display_name": "Python 3",
   "language": "python",
   "name": "python3"
  },
  "language_info": {
   "codemirror_mode": {
    "name": "ipython",
    "version": 3
   },
   "file_extension": ".py",
   "mimetype": "text/x-python",
   "name": "python",
   "nbconvert_exporter": "python",
   "pygments_lexer": "ipython3",
   "version": "3.6.3"
  }
 },
 "nbformat": 4,
 "nbformat_minor": 2
}
