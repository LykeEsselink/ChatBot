{
 "cells": [
  {
   "cell_type": "code",
   "execution_count": 6,
   "metadata": {},
   "outputs": [
    {
     "name": "stdout",
     "output_type": "stream",
     "text": [
      "3471\n"
     ]
    }
   ],
   "source": [
    "%run Vector.ipynb"
   ]
  },
  {
   "cell_type": "code",
   "execution_count": 7,
   "metadata": {
    "collapsed": true
   },
   "outputs": [],
   "source": [
    "np.set_printoptions(threshold=10) #np.inf"
   ]
  },
  {
   "cell_type": "code",
   "execution_count": 8,
   "metadata": {
    "collapsed": true
   },
   "outputs": [],
   "source": [
    "with open('uva_json_file', 'r') as f:\n",
    "    olddata = json.load(f)"
   ]
  },
  {
   "cell_type": "markdown",
   "metadata": {},
   "source": [
    "## Input "
   ]
  },
  {
   "cell_type": "markdown",
   "metadata": {},
   "source": [
    "Dictionary:\n",
    "\n",
    "    Language (int):\n",
    "        0 = Nederlands       \n",
    "        1 = Engels\n",
    "              \n",
    "    Type (int):  \n",
    "        0 = Onbekend      \n",
    "        1 = Wie        \n",
    "        2 = Wat        \n",
    "        3 = Waar        \n",
    "        4 = Waarom        \n",
    "        5 = Wanneer        \n",
    "        6 = Hoe        \n",
    "        7 = Welke        \n",
    "        \n",
    "    Level (str):        \n",
    "        Studie        \n",
    "        Faculteit        \n",
    "        UvA        \n",
    "        None        \n",
    "        \n",
    "    Keywords (set):        \n",
    "        {<keyword_1>, ..., <keyword_n>}        \n",
    "        \n",
    "    Source (str):\n",
    "        <Oorspronkelijke zin>"
   ]
  },
  {
   "cell_type": "markdown",
   "metadata": {},
   "source": [
    "We assume that for this specific problem (only searching the tree we have established) we actually only need the keywords provided from the input query. The reason for this is that the keywords of the articles we have are a mix of both Dutch and English and will therefore automatically return the right URL. The type is irrelevant for this problem as we only have access to the keywords of the articles because we have not scraped the entire texts. Therefore, we are unable to parse what kind of question a person is asking, this will be handled in our other solution of using Watson to find the right text. \n",
    "The source is also not relevant as we have the keywords necessary."
   ]
  },
  {
   "cell_type": "code",
   "execution_count": 9,
   "metadata": {
    "collapsed": true
   },
   "outputs": [],
   "source": [
    "'''\n",
    "This function is used to determine the level 'type' of the level passed through by the input. \n",
    "This type can either be a factulty or a study, and determines where in the tree the algorithm will search.\n",
    "'''\n",
    "def leveltype(level, data):\n",
    "    for faculty, studies in data.items():\n",
    "        if faculty == level:\n",
    "            return 'fac'\n",
    "        else:\n",
    "            for study, az_links in studies.items():\n",
    "                if study == level:\n",
    "                    return 'stud'\n",
    "    return None"
   ]
  },
  {
   "cell_type": "code",
   "execution_count": 10,
   "metadata": {
    "collapsed": true
   },
   "outputs": [],
   "source": [
    "'''\n",
    "This function returns the keywords for the given article, and is used to find the respective keywords\n",
    "for the input article.\n",
    "'''\n",
    "def lvlkey(link, olddata):\n",
    "    for faculty, studies in olddata.items():\n",
    "        for study, az_links in studies.items():\n",
    "            for article, keywords in az_links.items():\n",
    "                if link == article:\n",
    "                    return study, keywords\n",
    "    return None"
   ]
  },
  {
   "cell_type": "code",
   "execution_count": 11,
   "metadata": {
    "collapsed": true
   },
   "outputs": [],
   "source": [
    "'''\n",
    "This function looks at the input query dictionary and assigns variable names to certain parts of the query.\n",
    "'''\n",
    "def analyse_query(query, data):\n",
    "    keywords = list(query.get('Keywords'))\n",
    "    level = query.get('Level')\n",
    "    lvltype = leveltype(level, data)\n",
    "    queryvec = vector(keywords, generalvec)\n",
    "    return queryvec, level, lvltype, keywords"
   ]
  },
  {
   "cell_type": "code",
   "execution_count": 12,
   "metadata": {
    "collapsed": true
   },
   "outputs": [],
   "source": [
    "'''\n",
    "This is the most important function which searches through the given part of the tree, and returns a \n",
    "dictionary of the top results with their cosine similarity scores.\n",
    "'''\n",
    "def search_tree(data, queryvec, level, leveltype):\n",
    "    topdict = {}\n",
    "    value = []\n",
    "    threshold = 0     \n",
    "    # searches only through a specific factulty if the level is a faculty\n",
    "    if leveltype == 'fac':\n",
    "        for faculty, studies in data.items():\n",
    "            if faculty == level:\n",
    "                for study, az_links in studies.items():\n",
    "                    for article, articlevec in az_links.items():\n",
    "                        cosinesim = 1 - cs.distance.cosine(articlevec, queryvec)\n",
    "                        if cosinesim > threshold:\n",
    "                            topdict.update({article: cosinesim})\n",
    "    # searches only through a specific study if the level is a study\n",
    "    elif leveltype == 'stud':\n",
    "        for faculty, studies in data.items():\n",
    "            for study, az_links in studies.items():\n",
    "                if study == level:\n",
    "                    for article, articlevec in az_links.items():\n",
    "                        cosinesim = 1 - cs.distance.cosine(articlevec, queryvec)\n",
    "                        if cosinesim > threshold:\n",
    "                            topdict.update({article: cosinesim})\n",
    "    # searches through the entire tree\n",
    "    else:\n",
    "        for faculty, studies in data.items():\n",
    "                for study, az_links in studies.items():\n",
    "                    for article, articlevec in az_links.items():\n",
    "                        cosinesim = 1 - cs.distance.cosine(articlevec, queryvec)\n",
    "                        if cosinesim > threshold:\n",
    "                            topdict.update({article: cosinesim})\n",
    "    toplinks = sorted(topdict, key=topdict.get, reverse=True)\n",
    "    return toplinks, topdict"
   ]
  },
  {
   "cell_type": "code",
   "execution_count": 13,
   "metadata": {
    "collapsed": true
   },
   "outputs": [],
   "source": [
    "'''\n",
    "This function creates a dictionary of n links of the top results, with all the required information\n",
    "about those results (the URL, score, level, and keywords).\n",
    "'''\n",
    "def topresults(olddata, toplinks, topdict, n):\n",
    "    topndicts = []\n",
    "    for toplink in toplinks[:n]:\n",
    "        level, keywords = lvlkey(toplink, olddata)\n",
    "        for link, score in topdict.items():\n",
    "            if toplink == link:\n",
    "                topndicts.append({'URL':link, 'Score':score, 'Level':level, 'Keywords':keywords})\n",
    "    return topndicts"
   ]
  },
  {
   "cell_type": "code",
   "execution_count": 14,
   "metadata": {},
   "outputs": [],
   "source": [
    "'''\n",
    "This is the main function which stiches together all the above functions and returns the corresponding results. \n",
    "'''\n",
    "def main(query, data, olddata, n):\n",
    "    queryvec, level, lvltype, keywords = analyse_query(query, data)\n",
    "    toplinks, topdict = search_tree(data, queryvec, level, lvltype)\n",
    "    topndicts = topresults(olddata, toplinks, topdict, n)\n",
    "    return topndicts"
   ]
  },
  {
   "cell_type": "code",
   "execution_count": 15,
   "metadata": {
    "collapsed": true
   },
   "outputs": [],
   "source": [
    "'''\n",
    "Some example queries\n",
    "'''\n",
    "# Query to show a good working example without level given\n",
    "query1 = {'Language':0, \n",
    "         'Type':0, \n",
    "         'Level':'', \n",
    "         'Keywords':set(['laptop', 'eisen', 'kunstmatige', 'intelligentie']), \n",
    "         'Source':'Wat zijn de laptop eisen voor kunstmatige intelligentie?'}\n",
    "# Query to show a good working example with level given\n",
    "query2 = {'Language':0, \n",
    "         'Type':0, \n",
    "         'Level':'Kunstmatige intelligentie (bachelor)', \n",
    "         'Keywords':set(['laptop', 'eisen', 'kunstmatige', 'intelligentie']), \n",
    "         'Source':'Wat zijn de laptop eisen voor kunstmatige intelligentie?'}\n",
    "# Query to show a bad working example without level given\n",
    "query3 = {'Language':0, \n",
    "         'Type':0, \n",
    "         'Level':'', \n",
    "         'Keywords':set(['toelatingseisen', 'kunstmatige', 'intelligentie']), \n",
    "         'Source':'Wat zijn de toelatingseisen voor kunstmatige intelligentie?'}\n",
    "# Query to show a bad working example without level given\n",
    "query4 = {'Language':0, \n",
    "         'Type':0, \n",
    "         'Level':'Kunstmatige intelligentie (bachelor)', \n",
    "         'Keywords':set(['toelatingseisen', 'kunstmatige', 'intelligentie']), \n",
    "         'Source':'Wat zijn de toelatingseisen voor kunstmatige intelligentie?'}"
   ]
  },
  {
   "cell_type": "code",
   "execution_count": 16,
   "metadata": {},
   "outputs": [
    {
     "data": {
      "text/plain": [
       "[{'Keywords': ['maatschappij- en gedragswetenschappen,studieprogramma,vakaanmelding,sociale geografie en planologie (bachelor),eisen,voorwaarden,in- en uitschrijven,instroom'],\n",
       "  'Level': 'Sociale geografie en Planologie (bachelor)',\n",
       "  'Score': 0.25,\n",
       "  'URL': 'http://www.student.uva.nl/sgpl/content/az/vak-en-tentamenaanmelding-sgp/ingangseisen/ingangseisen-kopie.html'},\n",
       " {'Keywords': ['minimumeisen,studenten,ict en faciliteiten,natuurwetenschappen, wiskunde en informatica,computereisen,laptop,informatica'],\n",
       "  'Level': 'Informatica (bachelor)',\n",
       "  'Score': 0.25,\n",
       "  'URL': 'http://www.student.uva.nl/inc/content/az/laptop-minimumeisen/laptop-minimumeisen.html'},\n",
       " {'Keywords': ['maatschappij- en gedragswetenschappen,studieprogramma,inschrijving en toelating,vakaanmelding,sociale geografie en planologie (bachelor),eisen,voorwaarden,in- en uitschrijven,instroom'],\n",
       "  'Level': 'Sociale geografie en Planologie (bachelor)',\n",
       "  'Score': 0.23570226039551578,\n",
       "  'URL': 'http://www.student.uva.nl/sgpl/content/az/ingangseisen/ingangseisen.html'},\n",
       " {'Keywords': ['minimumeisen,studenten,ict en faciliteiten,natuurwetenschappen, wiskunde en informatica,ict,computereisen,laptop,kunstmatige intelligentie'],\n",
       "  'Level': 'Kunstmatige intelligentie (bachelor)',\n",
       "  'Score': 0.23570226039551578,\n",
       "  'URL': 'http://www.student.uva.nl/ki/content/az/laptop-minimumeisen/laptop-minimumeisen.html'},\n",
       " {'Keywords': ['minimumeisen,informatiekunde,ict en faciliteiten,natuurwetenschappen, wiskunde en informatica,ict,computereisen,laptop,studiefaciliteiten'],\n",
       "  'Level': 'Informatiekunde (bachelor)',\n",
       "  'Score': 0.23570226039551578,\n",
       "  'URL': 'http://www.student.uva.nl/ifk/content/az/laptop-minimumeisen/laptop-minimumeisen.html'}]"
      ]
     },
     "execution_count": 16,
     "metadata": {},
     "output_type": "execute_result"
    }
   ],
   "source": [
    "main(query1, data, olddata, 5)"
   ]
  },
  {
   "cell_type": "code",
   "execution_count": 17,
   "metadata": {},
   "outputs": [
    {
     "data": {
      "text/plain": [
       "[{'Keywords': ['minimumeisen,studenten,ict en faciliteiten,natuurwetenschappen, wiskunde en informatica,ict,computereisen,laptop,kunstmatige intelligentie'],\n",
       "  'Level': 'Kunstmatige intelligentie (bachelor)',\n",
       "  'Score': 0.23570226039551578,\n",
       "  'URL': 'http://www.student.uva.nl/ki/content/az/laptop-minimumeisen/laptop-minimumeisen.html'},\n",
       " {'Keywords': ['onderwijsprogramma’s,opleidingsintroductie,natuurwetenschappen, wiskunde en informatica,nieuwe studenten,laptop,kunstmatige intelligentie,informatie,zij-instromer,studieprogramma,inschrijving en toelating,de studiefaciliteiten,studie,begeleiding,instromer,eerstejaars,ki,instroom'],\n",
       "  'Level': 'Kunstmatige intelligentie (bachelor)',\n",
       "  'Score': 0.16666666666666663,\n",
       "  'URL': 'http://www.student.uva.nl/ki/content/az/nieuwe-studenten/nieuwe-studenten.html'}]"
      ]
     },
     "execution_count": 17,
     "metadata": {},
     "output_type": "execute_result"
    }
   ],
   "source": [
    "main(query2, data, olddata, 5)"
   ]
  },
  {
   "cell_type": "code",
   "execution_count": 18,
   "metadata": {},
   "outputs": [
    {
     "data": {
      "text/plain": [
       "[{'Keywords': ['inschrijving en toelating,rechtsgeleerdheid,rechten,schakelprogramma,bijscholing,onderwijs,toelatingseisen,schakelaar,instromen'],\n",
       "  'Level': 'Publiekrecht: Militair recht (master)',\n",
       "  'Score': 0.33333333333333326,\n",
       "  'URL': 'http://www.student.uva.nl/rechten/content/az/schakelprogramma/schakelprogramma.html'},\n",
       " {'Keywords': ['owi,regelingen en inspraak,reglementen,natuurwetenschappen, wiskunde en informatica,regeling,toelatingseisen,examen,medezeggenschap,regels,examenregeling,studieprogramma,vakken, tentamens en cijfers,medezeggenschap en inspraak,onderwijs,regelingen,oer,richtlijnen,inspraak,onderwijsregeling'],\n",
       "  'Level': 'Psychobiologie (bachelor)',\n",
       "  'Score': 0.21821789023599236,\n",
       "  'URL': 'http://www.student.uva.nl/pb/shared/studentensites/fnwi/esc-gedeelde-content/nl/az/onderwijs-en-examenregeling-oer/onderwijs--en-examenregeling-oer.html'},\n",
       " {'Keywords': ['owi,regelingen en inspraak,reglementen,natuurwetenschappen, wiskunde en informatica,regeling,toelatingseisen,examen,medezeggenschap,regels,examenregeling,studieprogramma,vakken, tentamens en cijfers,medezeggenschap en inspraak,onderwijs,regelingen,oer,richtlijnen,inspraak,onderwijsregeling'],\n",
       "  'Level': 'Kunstmatige intelligentie (bachelor)',\n",
       "  'Score': 0.21821789023599236,\n",
       "  'URL': 'http://www.student.uva.nl/ki/shared/studentensites/fnwi/esc-gedeelde-content/nl/az/onderwijs-en-examenregeling-oer/onderwijs--en-examenregeling-oer.html'},\n",
       " {'Keywords': ['owi,regelingen en inspraak,reglementen,natuurwetenschappen, wiskunde en informatica,regeling,toelatingseisen,examen,medezeggenschap,regels,examenregeling,studieprogramma,vakken, tentamens en cijfers,medezeggenschap en inspraak,onderwijs,regelingen,oer,richtlijnen,inspraak,onderwijsregeling'],\n",
       "  'Level': 'Scheikunde (bachelor)',\n",
       "  'Score': 0.21821789023599236,\n",
       "  'URL': 'http://www.student.uva.nl/sck/shared/studentensites/fnwi/esc-gedeelde-content/nl/az/onderwijs-en-examenregeling-oer/onderwijs--en-examenregeling-oer.html'},\n",
       " {'Keywords': ['owi,regelingen en inspraak,reglementen,natuurwetenschappen, wiskunde en informatica,regeling,toelatingseisen,examen,medezeggenschap,regels,examenregeling,studieprogramma,vakken, tentamens en cijfers,medezeggenschap en inspraak,onderwijs,regelingen,oer,richtlijnen,inspraak,onderwijsregeling'],\n",
       "  'Level': 'Informatica (bachelor)',\n",
       "  'Score': 0.21821789023599236,\n",
       "  'URL': 'http://www.student.uva.nl/inc/shared/studentensites/fnwi/esc-gedeelde-content/nl/az/onderwijs-en-examenregeling-oer/onderwijs--en-examenregeling-oer.html'}]"
      ]
     },
     "execution_count": 18,
     "metadata": {},
     "output_type": "execute_result"
    }
   ],
   "source": [
    "main(query3, data, olddata, 5)"
   ]
  },
  {
   "cell_type": "code",
   "execution_count": 19,
   "metadata": {},
   "outputs": [
    {
     "data": {
      "text/plain": [
       "[{'Keywords': ['owi,regelingen en inspraak,reglementen,natuurwetenschappen, wiskunde en informatica,regeling,toelatingseisen,examen,medezeggenschap,regels,examenregeling,studieprogramma,vakken, tentamens en cijfers,medezeggenschap en inspraak,onderwijs,regelingen,oer,richtlijnen,inspraak,onderwijsregeling'],\n",
       "  'Level': 'Kunstmatige intelligentie (bachelor)',\n",
       "  'Score': 0.21821789023599236,\n",
       "  'URL': 'http://www.student.uva.nl/ki/shared/studentensites/fnwi/esc-gedeelde-content/nl/az/onderwijs-en-examenregeling-oer/onderwijs--en-examenregeling-oer.html'}]"
      ]
     },
     "execution_count": 19,
     "metadata": {},
     "output_type": "execute_result"
    }
   ],
   "source": [
    "main(query4, data, olddata, 5)"
   ]
  }
 ],
 "metadata": {
  "kernelspec": {
   "display_name": "Python 3",
   "language": "python",
   "name": "python3"
  },
  "language_info": {
   "codemirror_mode": {
    "name": "ipython",
    "version": 3
   },
   "file_extension": ".py",
   "mimetype": "text/x-python",
   "name": "python",
   "nbconvert_exporter": "python",
   "pygments_lexer": "ipython3",
   "version": "3.6.3"
  }
 },
 "nbformat": 4,
 "nbformat_minor": 2
}
