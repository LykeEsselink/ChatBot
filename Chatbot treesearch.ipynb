{
 "cells": [
  {
   "cell_type": "code",
   "execution_count": 19,
   "metadata": {},
   "outputs": [],
   "source": [
    "%run Vector.ipynb"
   ]
  },
  {
   "cell_type": "code",
   "execution_count": 32,
   "metadata": {
    "collapsed": true
   },
   "outputs": [],
   "source": [
    "np.set_printoptions(threshold=10) #np.inf"
   ]
  },
  {
   "cell_type": "markdown",
   "metadata": {},
   "source": [
    "## Input "
   ]
  },
  {
   "cell_type": "markdown",
   "metadata": {},
   "source": [
    "Dictionary:\n",
    "\n",
    "    Language (int):\n",
    "        0 = Nederlands       \n",
    "        1 = Engels\n",
    "              \n",
    "    Type (int):  \n",
    "        0 = Onbekend      \n",
    "        1 = Wie        \n",
    "        2 = Wat        \n",
    "        3 = Waar        \n",
    "        4 = Waarom        \n",
    "        5 = Wanneer        \n",
    "        6 = Hoe        \n",
    "        7 = Welke        \n",
    "        \n",
    "    Level (str):        \n",
    "        Studie        \n",
    "        Faculteit        \n",
    "        UvA        \n",
    "        None        \n",
    "        \n",
    "    Keywords (set):        \n",
    "        {<keyword_1>, ..., <keyword_n>}        \n",
    "        \n",
    "    Source (str):\n",
    "        <Oorspronkelijke zin>"
   ]
  },
  {
   "cell_type": "markdown",
   "metadata": {},
   "source": [
    "We assume that for this specific problem (only searching the tree we have established) we actually only need the keywords provided from the input query. The reason for this is that the keywords of the articles we have are a mix of both Dutch and English and will therefore automatically return the right URL. The type is irrelevant for this problem as we only have access to the keywords of the articles because we have not scraped the entire texts. Therefore, we are unable to parse what kind of question a person is asking, this will be handled in our other solution of using Watson to find the right text. \n",
    "The source is also not relevant as we have the keywords necessary."
   ]
  },
  {
   "cell_type": "code",
   "execution_count": 87,
   "metadata": {
    "collapsed": true
   },
   "outputs": [],
   "source": [
    "query = {'Language':0, \n",
    "         'Type':0, \n",
    "         'Level':'Kunstmatige intelligentie (bachelor)', \n",
    "         'Keywords':set(['laptop', 'eisen', 'kunstmatige', 'intelligentie']), \n",
    "         'Source':'Wat zijn de laptop eisen voor kunstmatige intelligentie?'}"
   ]
  },
  {
   "cell_type": "code",
   "execution_count": 88,
   "metadata": {},
   "outputs": [
    {
     "name": "stdout",
     "output_type": "stream",
     "text": [
      "Kunstmatige intelligentie (bachelor)\n"
     ]
    }
   ],
   "source": [
    "keywords = list(query.get('Keywords'))\n",
    "level = query.get('Level')\n",
    "queryvec = vector(keywords, generalvec)\n",
    "#pprint(queryvec)\n",
    "print(level)"
   ]
  },
  {
   "cell_type": "code",
   "execution_count": 90,
   "metadata": {},
   "outputs": [
    {
     "name": "stdout",
     "output_type": "stream",
     "text": [
      "['http://www.student.uva.nl/sgpl/content/az/vak-en-tentamenaanmelding-sgp/ingangseisen/ingangseisen-kopie.html', 'http://www.student.uva.nl/inc/content/az/laptop-minimumeisen/laptop-minimumeisen.html', 'http://www.student.uva.nl/sgpl/content/az/ingangseisen/ingangseisen.html', 'http://www.student.uva.nl/ki/content/az/laptop-minimumeisen/laptop-minimumeisen.html', 'http://www.student.uva.nl/ifk/content/az/laptop-minimumeisen/laptop-minimumeisen.html']\n",
      "{'http://www.student.uva.nl/mcsa/shared/studentensites/uva-studentensite/en/az/wireless-internet/wireless-internet.html': 0.18898223650461365, 'http://www.student.uva.nl/rmids/shared/studentensites/uva-studentensite/en/az/wireless-internet/wireless-internet.html': 0.18898223650461365, 'http://www.student.uva.nl/rmus/shared/studentensites/uva-studentensite/en/az/wireless-internet/wireless-internet.html': 0.18898223650461365, 'http://www.student.uva.nl/mcrg/shared/studentensites/uva-studentensite/en/az/wireless-internet/wireless-internet.html': 0.18898223650461365, 'http://www.student.uva.nl/murp/shared/studentensites/uva-studentensite/en/az/wireless-internet/wireless-internet.html': 0.18898223650461365, 'http://www.student.uva.nl/rmss/shared/studentensites/uva-studentensite/en/az/wireless-internet/wireless-internet.html': 0.18898223650461365, 'http://www.student.uva.nl/cs/shared/studentensites/uva-studentensite/en/az/wireless-internet/wireless-internet.html': 0.18898223650461365, 'http://www.student.uva.nl/mcas/shared/studentensites/uva-studentensite/en/az/wireless-internet/wireless-internet.html': 0.18898223650461365, 'http://www.student.uva.nl/bcw/content/az/studiemateriaal-cw/studiemateriaal-cw.html': 0.21320071635561044, 'http://www.student.uva.nl/mpol/shared/studentensites/uva-studentensite/en/az/wireless-internet/wireless-internet.html': 0.18898223650461365, 'http://www.student.uva.nl/mhg/shared/studentensites/uva-studentensite/en/az/wireless-internet/wireless-internet.html': 0.18898223650461365, 'http://www.student.uva.nl/ess/shared/studentensites/uva-studentensite/en/az/wireless-internet/wireless-internet.html': 0.18898223650461365, 'http://www.student.uva.nl/mmas/shared/studentensites/uva-studentensite/en/az/wireless-internet/wireless-internet.html': 0.18898223650461365, 'http://www.student.uva.nl/msoc/shared/studentensites/uva-studentensite/en/az/wireless-internet/wireless-internet.html': 0.18898223650461365, 'http://www.student.uva.nl/ca/content/az/ingangseisen-master/ingangseisen-master.html': 0.21320071635561044, 'http://www.student.uva.nl/ca/content/az/ingangseisen-vakken-bachelor/ingangseisen-vakken-bachelor.html': 0.18257418583505536, 'http://www.student.uva.nl/rmp/shared/studentensites/uva-studentensite/en/az/wireless-internet/wireless-internet.html': 0.18898223650461365, 'http://www.student.uva.nl/sgpl/content/az/vak-en-tentamenaanmelding-sgp/ingangseisen/ingangseisen-kopie.html': 0.25, 'http://www.student.uva.nl/sgpl/content/az/laptopbeleid/laptopbeleid.html': 0.18257418583505536, 'http://www.student.uva.nl/sgpl/content/az/ingangseisen/ingangseisen.html': 0.23570226039551578, 'http://www.student.uva.nl/pple/shared/studentensites/uva-studentensite/en/az/wireless-internet/wireless-internet.html': 0.18898223650461365, 'http://www.student.uva.nl/mids/shared/studentensites/uva-studentensite/en/az/wireless-internet/wireless-internet.html': 0.18898223650461365, 'http://www.student.uva.nl/mcs/shared/studentensites/uva-studentensite/en/az/wireless-internet/wireless-internet.html': 0.18898223650461365, 'http://www.student.uva.nl/bsoc/shared/studentensites/uva-studentensite/en/az/wireless-internet/wireless-internet.html': 0.18898223650461365, 'http://www.student.uva.nl/rmcde/shared/studentensites/uva-studentensite/en/az/wireless-internet/wireless-internet.html': 0.18898223650461365, 'http://www.student.uva.nl/polsc/shared/studentensites/uva-studentensite/en/az/wireless-internet/wireless-internet.html': 0.18898223650461365, 'http://www.student.uva.nl/pol/content/az/vak-en-tentamenaanmelding-pol/ingangseisen/ingangseisen-bachelor-politicologie-kopie.html': 0.21320071635561044, 'http://www.student.uva.nl/pb/shared/studentensites/fnwi/lw-gedeelde-content/nl/az/studiemateriaal/studiemateriaal.html': 0.15075567228888176, 'http://www.student.uva.nl/pb/content/az/nieuwe-studenten-psychobiologie/nieuwe-studenten-psychobiologie.html': 0.17677669529663687, 'http://www.student.uva.nl/ki/content/az/nieuwe-studenten/nieuwe-studenten.html': 0.16666666666666663, 'http://www.student.uva.nl/ki/content/az/laptop-minimumeisen/laptop-minimumeisen.html': 0.23570226039551578, 'http://www.student.uva.nl/sne/shared/studentensites/uva-studentensite/en/az/wireless-internet/wireless-internet.html': 0.18898223650461365, 'http://www.student.uva.nl/bs/shared/studentensites/uva-studentensite/en/az/wireless-internet/wireless-internet.html': 0.18898223650461365, 'http://www.student.uva.nl/se/shared/studentensites/uva-studentensite/en/az/wireless-internet/wireless-internet.html': 0.18898223650461365, 'http://www.student.uva.nl/es/shared/studentensites/uva-studentensite/en/az/wireless-internet/wireless-internet.html': 0.18898223650461365, 'http://www.student.uva.nl/chem/shared/studentensites/uva-studentensite/en/az/wireless-internet/wireless-internet.html': 0.18898223650461365, 'http://www.student.uva.nl/bcs/shared/studentensites/uva-studentensite/en/az/wireless-internet/wireless-internet.html': 0.18898223650461365, 'http://www.student.uva.nl/is/shared/studentensites/uva-studentensite/en/az/wireless-internet/wireless-internet.html': 0.18898223650461365, 'http://www.student.uva.nl/sck/content/az/honoursprogramma/honoursprogramma.html': 0.158113883008419, 'http://www.student.uva.nl/sck/content/az/nieuwe-studenten/nieuwe-studenten.html': 0.17149858514250882, 'http://www.student.uva.nl/inc/content/az/laptop-minimumeisen/laptop-minimumeisen.html': 0.25, 'http://www.student.uva.nl/phys-astro/shared/studentensites/uva-studentensite/en/az/wireless-internet/wireless-internet.html': 0.18898223650461365, 'http://www.student.uva.nl/fs/shared/studentensites/uva-studentensite/en/az/wireless-internet/wireless-internet.html': 0.18898223650461365, 'http://www.student.uva.nl/math/shared/studentensites/uva-studentensite/en/az/wireless-internet/wireless-internet.html': 0.18898223650461365, 'http://www.student.uva.nl/ifk/content/az/laptop-minimumeisen/laptop-minimumeisen.html': 0.23570226039551578, 'http://www.student.uva.nl/bmed/shared/studentensites/uva-studentensite/en/az/wireless-internet/wireless-internet.html': 0.18898223650461365, 'http://www.student.uva.nl/cls/shared/studentensites/uva-studentensite/en/az/wireless-internet/wireless-internet.html': 0.18898223650461365, 'http://www.student.uva.nl/bio/shared/studentensites/fnwi/lw-gedeelde-content/nl/az/studiemateriaal/studiemateriaal.html': 0.15075567228888176, 'http://www.student.uva.nl/bio/content/az/honoursprogramma/honoursprogramma.html': 0.16222142113076254, 'http://www.student.uva.nl/mph/shared/studentensites/uva-studentensite/en/az/wireless-internet/wireless-internet.html': 0.18898223650461365, 'http://www.student.uva.nl/wis/content/az/honoursprogramma/honoursprogramma.html': 0.16222142113076254, 'http://www.student.uva.nl/wis/content/az/nieuwe-studenten/nieuwe-studenten.html': 0.15430334996209194, 'http://www.student.uva.nl/ai/shared/studentensites/uva-studentensite/en/az/wireless-internet/wireless-internet.html': 0.18898223650461365, 'http://www.student.uva.nl/log/shared/studentensites/uva-studentensite/en/az/wireless-internet/wireless-internet.html': 0.18898223650461365, 'http://www.student.uva.nl/sfm/shared/studentensites/uva-studentensite/en/az/wireless-internet/wireless-internet.html': 0.18898223650461365, 'http://www.student.uva.nl/ls/shared/studentensites/uva-studentensite/en/az/wireless-internet/wireless-internet.html': 0.18898223650461365, 'http://www.student.uva.nl/bw/content/az/nieuwe-studenten-biomedische-wetenschappen/nieuwe-studenten-bio-medische-wetenschappen.html': 0.16222142113076254, 'http://www.student.uva.nl/bw/shared/studentensites/fnwi/lw-gedeelde-content/nl/az/studiemateriaal/studiemateriaal.html': 0.15075567228888176, 'http://www.student.uva.nl/nsk/content/az/nieuwe-studenten/nieuwe-studenten.html': 0.16666666666666663, 'http://www.student.uva.nl/eco/shared/studentensites/uva-studentensite/en/az/wireless-internet/wireless-internet.html': 0.18898223650461365, 'http://www.student.uva.nl/law/shared/studentensites/uva-studentensite/en/az/wireless-internet/wireless-internet.html': 0.18898223650461365, 'http://www.student.uva.nl/mlit/shared/studentensites/uva-studentensite/en/az/wireless-internet/wireless-internet.html': 0.18898223650461365, 'http://www.student.uva.nl/mdas/shared/studentensites/uva-studentensite/en/az/wireless-internet/wireless-internet.html': 0.18898223650461365, 'http://www.student.uva.nl/blin/shared/studentensites/uva-studentensite/en/az/wireless-internet/wireless-internet.html': 0.18898223650461365, 'http://www.student.uva.nl/mac/shared/studentensites/uva-studentensite/en/az/wireless-internet/wireless-internet.html': 0.18898223650461365, 'http://www.student.uva.nl/mes/shared/studentensites/uva-studentensite/en/az/wireless-internet/wireless-internet.html': 0.18898223650461365, 'http://www.student.uva.nl/mlin/shared/studentensites/uva-studentensite/en/az/wireless-internet/wireless-internet.html': 0.18898223650461365, 'http://www.student.uva.nl/lca/shared/studentensites/uva-studentensite/en/az/wireless-internet/wireless-internet.html': 0.18898223650461365, 'http://www.student.uva.nl/mcac/shared/studentensites/uva-studentensite/en/az/wireless-internet/wireless-internet.html': 0.18898223650461365, 'http://www.student.uva.nl/mtrs/shared/studentensites/uva-studentensite/en/az/wireless-internet/wireless-internet.html': 0.18898223650461365, 'http://www.student.uva.nl/mmst/shared/studentensites/uva-studentensite/en/az/wireless-internet/wireless-internet.html': 0.18898223650461365, 'http://www.student.uva.nl/march/shared/studentensites/uva-studentensite/en/az/wireless-internet/wireless-internet.html': 0.18898223650461365, 'http://www.student.uva.nl/mers/shared/studentensites/uva-studentensite/en/az/wireless-internet/wireless-internet.html': 0.18898223650461365, 'http://www.student.uva.nl/marc/shared/studentensites/uva-studentensite/en/az/wireless-internet/wireless-internet.html': 0.18898223650461365, 'http://www.student.uva.nl/mlog/shared/studentensites/uva-studentensite/en/az/wireless-internet/wireless-internet.html': 0.18898223650461365, 'http://www.student.uva.nl/mhis/shared/studentensites/uva-studentensite/en/az/wireless-internet/wireless-internet.html': 0.18898223650461365, 'http://www.student.uva.nl/mphi/shared/studentensites/uva-studentensite/en/az/wireless-internet/wireless-internet.html': 0.18898223650461365, 'http://www.student.uva.nl/mai/shared/studentensites/uva-studentensite/en/az/wireless-internet/wireless-internet.html': 0.18898223650461365, 'http://www.student.uva.nl/bes/shared/studentensites/uva-studentensite/en/az/wireless-internet/wireless-internet.html': 0.18898223650461365, 'http://www.student.uva.nl/mindra/shared/studentensites/uva-studentensite/en/az/wireless-internet/wireless-internet.html': 0.18898223650461365, 'http://www.student.uva.nl/mpap/shared/studentensites/uva-studentensite/en/az/wireless-internet/wireless-internet.html': 0.18898223650461365, 'http://www.student.uva.nl/mcons/shared/studentensites/uva-studentensite/en/az/wireless-internet/wireless-internet.html': 0.18898223650461365, 'http://www.student.uva.nl/mheb/shared/studentensites/uva-studentensite/en/az/wireless-internet/wireless-internet.html': 0.18898223650461365, 'http://www.student.uva.nl/elac/shared/studentensites/uva-studentensite/en/az/wireless-internet/wireless-internet.html': 0.18898223650461365, 'http://www.student.uva.nl/mmi/shared/studentensites/uva-studentensite/en/az/wireless-internet/wireless-internet.html': 0.18898223650461365}\n"
     ]
    }
   ],
   "source": [
    "top = {}\n",
    "value = []\n",
    "highest = 0\n",
    "for faculty, studies in data.items():\n",
    "    for study, az_links in studies.items():\n",
    "        #if study == level:\n",
    "        for article, articlevec in az_links.items():\n",
    "            cosinesim = 1 - cs.distance.cosine(articlevec, queryvec)\n",
    "            if cosinesim > highest:\n",
    "                #highest = cosinesim\n",
    "                top.update({article: cosinesim})\n",
    "\n",
    "top5 = sorted(top, key=top.get, reverse=True)\n",
    "print(top5[:5])\n",
    "print(top)"
   ]
  },
  {
   "cell_type": "code",
   "execution_count": null,
   "metadata": {
    "collapsed": true
   },
   "outputs": [],
   "source": []
  }
 ],
 "metadata": {
  "kernelspec": {
   "display_name": "Python 3",
   "language": "python",
   "name": "python3"
  },
  "language_info": {
   "codemirror_mode": {
    "name": "ipython",
    "version": 3
   },
   "file_extension": ".py",
   "mimetype": "text/x-python",
   "name": "python",
   "nbconvert_exporter": "python",
   "pygments_lexer": "ipython3",
   "version": "3.6.3"
  }
 },
 "nbformat": 4,
 "nbformat_minor": 2
}
