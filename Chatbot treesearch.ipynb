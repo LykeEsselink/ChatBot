{
 "cells": [
  {
   "cell_type": "code",
   "execution_count": 3,
   "metadata": {},
   "outputs": [],
   "source": [
    "%run Vector.ipynb"
   ]
  },
  {
   "cell_type": "code",
   "execution_count": 4,
   "metadata": {},
   "outputs": [],
   "source": [
    "np.set_printoptions(threshold=10) #np.inf"
   ]
  },
  {
   "cell_type": "code",
   "execution_count": 5,
   "metadata": {},
   "outputs": [],
   "source": [
    "with open('uva_json_file', 'r') as f:\n",
    "    olddata = json.load(f)"
   ]
  },
  {
   "cell_type": "markdown",
   "metadata": {},
   "source": [
    "## Input "
   ]
  },
  {
   "cell_type": "markdown",
   "metadata": {},
   "source": [
    "Dictionary:\n",
    "\n",
    "    Language (int):\n",
    "        0 = Nederlands       \n",
    "        1 = Engels\n",
    "              \n",
    "    Type (int):  \n",
    "        0 = Onbekend      \n",
    "        1 = Wie        \n",
    "        2 = Wat        \n",
    "        3 = Waar        \n",
    "        4 = Waarom        \n",
    "        5 = Wanneer        \n",
    "        6 = Hoe        \n",
    "        7 = Welke        \n",
    "        \n",
    "    Level (str):        \n",
    "        Studie        \n",
    "        Faculteit        \n",
    "        UvA        \n",
    "        None        \n",
    "        \n",
    "    Keywords (set):        \n",
    "        {<keyword_1>, ..., <keyword_n>}        \n",
    "        \n",
    "    Source (str):\n",
    "        <Oorspronkelijke zin>"
   ]
  },
  {
   "cell_type": "markdown",
   "metadata": {},
   "source": [
    "We assume that for this specific problem (only searching the tree we have established) we actually only need the keywords provided from the input query. The reason for this is that the keywords of the articles we have are a mix of both Dutch and English and will therefore automatically return the right URL. The type is irrelevant for this problem as we only have access to the keywords of the articles because we have not scraped the entire texts. Therefore, we are unable to parse what kind of question a person is asking, this will be handled in our other solution of using Watson to find the right text. \n",
    "The source is also not relevant as we have the keywords necessary."
   ]
  },
  {
   "cell_type": "code",
   "execution_count": 6,
   "metadata": {},
   "outputs": [],
   "source": [
    "query = {'Language':0, \n",
    "         'Type':0, \n",
    "         'Level':'Kunstmatige intelligentie (bachelor)', \n",
    "         'Keywords':set(['laptop', 'eisen', 'kunstmatige', 'intelligentie']), \n",
    "         'Source':'Wat zijn de laptop eisen voor kunstmatige intelligentie?'}"
   ]
  },
  {
   "cell_type": "code",
   "execution_count": 7,
   "metadata": {},
   "outputs": [],
   "source": [
    "def leveltype(level, data):\n",
    "    for faculty, studies in data.items():\n",
    "        if faculty == level:\n",
    "            return 'fac'\n",
    "        else:\n",
    "            for study, az_links in studies.items():\n",
    "                if study == level:\n",
    "                    return 'stud'\n",
    "    return None"
   ]
  },
  {
   "cell_type": "code",
   "execution_count": 8,
   "metadata": {},
   "outputs": [],
   "source": [
    "def lvlkey(link, olddata):\n",
    "    for faculty, studies in olddata.items():\n",
    "        for study, az_links in studies.items():\n",
    "            for article, keywords in az_links.items():\n",
    "                if link == article:\n",
    "                    return study, keywords\n",
    "    return None"
   ]
  },
  {
   "cell_type": "code",
   "execution_count": 9,
   "metadata": {},
   "outputs": [],
   "source": [
    "def analyse_query(query, data):\n",
    "    keywords = list(query.get('Keywords'))\n",
    "    level = query.get('Level')\n",
    "    lvltype = leveltype(level, data)\n",
    "    queryvec = vector(keywords, generalvec)\n",
    "    return queryvec, level, lvltype, keywords"
   ]
  },
  {
   "cell_type": "code",
   "execution_count": 10,
   "metadata": {},
   "outputs": [],
   "source": [
    "def search_tree(data, queryvec, level, leveltype):\n",
    "    topdict = {}\n",
    "    value = []\n",
    "    threshold = 0        \n",
    "    if leveltype == 'fac':\n",
    "        for faculty, studies in data.items():\n",
    "            if faculty == level:\n",
    "                for study, az_links in studies.items():\n",
    "                    for article, articlevec in az_links.items():\n",
    "                        cosinesim = 1 - cs.distance.cosine(articlevec, queryvec)\n",
    "                        if cosinesim > threshold:\n",
    "                            topdict.update({article: cosinesim})\n",
    "    elif leveltype == 'stud':\n",
    "        for faculty, studies in data.items():\n",
    "            for study, az_links in studies.items():\n",
    "                if study == level:\n",
    "                    for article, articlevec in az_links.items():\n",
    "                        cosinesim = 1 - cs.distance.cosine(articlevec, queryvec)\n",
    "                        if cosinesim > threshold:\n",
    "                            topdict.update({article: cosinesim})\n",
    "    else:\n",
    "        for faculty, studies in data.items():\n",
    "                for study, az_links in studies.items():\n",
    "                    for article, articlevec in az_links.items():\n",
    "                        cosinesim = 1 - cs.distance.cosine(articlevec, queryvec)\n",
    "                        if cosinesim > threshold:\n",
    "                            topdict.update({article: cosinesim})\n",
    "    toplinks = sorted(topdict, key=topdict.get, reverse=True)\n",
    "    return toplinks, topdict"
   ]
  },
  {
   "cell_type": "code",
   "execution_count": 11,
   "metadata": {},
   "outputs": [],
   "source": [
    "def topresults(olddata, toplinks, topdict, n):\n",
    "    topndicts = []\n",
    "    for toplink in toplinks[:n]:\n",
    "        level, keywords = lvlkey(toplink, olddata)\n",
    "        for link, score in topdict.items():\n",
    "            if toplink == link:\n",
    "                topndicts.append({'URL':link, 'Score':score, 'Level':level, 'Keywords':keywords})\n",
    "    return topndicts"
   ]
  },
  {
   "cell_type": "code",
   "execution_count": 12,
   "metadata": {},
   "outputs": [
    {
     "data": {
      "text/plain": [
       "[{'Keywords': ['minimumeisen,studenten,ict en faciliteiten,natuurwetenschappen, wiskunde en informatica,ict,computereisen,laptop,kunstmatige intelligentie'],\n",
       "  'Level': 'Kunstmatige intelligentie (bachelor)',\n",
       "  'Score': 0.23570226039551578,\n",
       "  'URL': 'http://www.student.uva.nl/ki/content/az/laptop-minimumeisen/laptop-minimumeisen.html'},\n",
       " {'Keywords': ['onderwijsprogramma’s,opleidingsintroductie,natuurwetenschappen, wiskunde en informatica,nieuwe studenten,laptop,kunstmatige intelligentie,informatie,zij-instromer,studieprogramma,inschrijving en toelating,de studiefaciliteiten,studie,begeleiding,instromer,eerstejaars,ki,instroom'],\n",
       "  'Level': 'Kunstmatige intelligentie (bachelor)',\n",
       "  'Score': 0.16666666666666663,\n",
       "  'URL': 'http://www.student.uva.nl/ki/content/az/nieuwe-studenten/nieuwe-studenten.html'}]"
      ]
     },
     "execution_count": 12,
     "metadata": {},
     "output_type": "execute_result"
    }
   ],
   "source": [
    "def main(query, data, olddata, n):\n",
    "    queryvec, level, lvltype, keywords = analyse_query(query, data)\n",
    "    toplinks, topdict = search_tree(data, queryvec, level, lvltype)\n",
    "    topndicts = topresults(olddata, toplinks, topdict, n)\n",
    "    return topndicts\n",
    "\n",
    "main(query, data, olddata, 5)"
   ]
  },
  {
   "cell_type": "code",
   "execution_count": null,
   "metadata": {
    "collapsed": true
   },
   "outputs": [],
   "source": []
  }
 ],
 "metadata": {
  "kernelspec": {
   "display_name": "Python 3",
   "language": "python",
   "name": "python3"
  },
  "language_info": {
   "codemirror_mode": {
    "name": "ipython",
    "version": 3
   },
   "file_extension": ".py",
   "mimetype": "text/x-python",
   "name": "python",
   "nbconvert_exporter": "python",
   "pygments_lexer": "ipython3",
   "version": "3.6.3"
  }
 },
 "nbformat": 4,
 "nbformat_minor": 2
}
