{
 "cells": [
  {
   "cell_type": "code",
   "execution_count": 1,
   "metadata": {},
   "outputs": [],
   "source": [
    "import urllib.request as urllib\n",
    "from bs4 import BeautifulSoup"
   ]
  },
  {
   "cell_type": "code",
   "execution_count": 2,
   "metadata": {},
   "outputs": [],
   "source": [
    "# Read in a webpage\n",
    "def read_in_page(url):\n",
    "    #Query the website and return the html to the variable 'page'\n",
    "    page = urllib.urlopen(url)\n",
    "    soup = BeautifulSoup(page, \"lxml\")\n",
    "    return(soup)\n",
    "\n",
    "# Get all relevant links in a webpage\n",
    "def get_links(page):\n",
    "    links = page.find_all(\"a\", class_=\"action\")\n",
    "    links_new = []\n",
    "    for link in links:\n",
    "        sep = '?'\n",
    "        rest = link['href'].split(sep, 1)[0]\n",
    "        links_new.append(rest)\n",
    "    return(links_new)\n",
    "\n",
    "# Returns url of UvA search engine with keywords\n",
    "def create_search_query_url(keywords_list):\n",
    "    main_url = \"http://student.uva.nl/search?q=\" + keywords_list[0]\n",
    "    keywords_list.remove(keywords_list[0])\n",
    "    \n",
    "    for keyword in keywords_list:\n",
    "        main_url = main_url + \"+\" + keyword\n",
    "    \n",
    "    return(main_url)\n",
    "\n",
    "# Returns a list of keywords when given a question URL.\n",
    "def get_keywords(question_url):\n",
    "    # grab keywords with beautiful soup\n",
    "    question_page = read_in_page(question_url)\n",
    "    keyword_tag = question_page.findAll(\"meta\", {\"name\": 'keywords'})\n",
    "    keywords = keyword_tag[0]['content']\n",
    "    return([keywords])"
   ]
  },
  {
   "cell_type": "code",
   "execution_count": 16,
   "metadata": {},
   "outputs": [
    {
     "name": "stdout",
     "output_type": "stream",
     "text": [
      "Input query keywords: ['kunstmatige', 'intelligentie']\n",
      "Query URL: http://student.uva.nl/search?q=toelatingseisen+kunstmatige+intelligentie \n",
      "\n",
      "Top 5 search results: ['http://www.uva.nl/programmas/bachelors/kunstmatige-intelligentie/toelating-en-inschrijven/toelatingseisen/toelatingseisen.html', 'http://www.uva.nl/shared-content/studentensites/fnwi/iw-gedeelde-content/nl/az/vakaanmelding/vakaanmelding.html', 'http://www.uva.nl/shared-content/studentensites/fnwi/iw-gedeelde-content/nl/az/bindend-studieadvies-bsa/bindend-studieadvies-bsa.html', 'http://www.student.uva.nl/ki', 'http://www.uva.nl/programmas/bachelors/kunstmatige-intelligentie/toelating-en-inschrijven/toelating-en-inschrijven.html'] \n",
      "\n",
      "Correct webpage URL: http://www.uva.nl/programmas/bachelors/kunstmatige-intelligentie/toelating-en-inschrijven/toelatingseisen/toelatingseisen.html\n",
      "Keywords of correct URL: ['faculteiten,natuurwetenschappen, wiskunde en informatica']\n"
     ]
    }
   ],
   "source": [
    "# Example test\n",
    "query = 'Wat zijn de toelatingseisen van kunstmatige intelligentie?'\n",
    "query_keywords = ['toelatingseisen', 'kunstmatige', 'intelligentie']\n",
    "query_url = create_search_query_url(query_keywords)\n",
    "print(\"Input query keywords:\", query_keywords)\n",
    "print(\"Query URL:\", query_url, \"\\n\")\n",
    "\n",
    "query_page = read_in_page(query_url)\n",
    "search_results = get_links(query_page)\n",
    "top_five = search_results[:5]\n",
    "print(\"Top 5 search results:\", top_five, \"\\n\")\n",
    "\n",
    "print(\"Correct webpage URL:\", search_results[0])\n",
    "keywords = get_keywords(search_results[0])\n",
    "print(\"Keywords of correct URL:\", keywords)"
   ]
  },
  {
   "cell_type": "code",
   "execution_count": null,
   "metadata": {},
   "outputs": [],
   "source": []
  }
 ],
 "metadata": {
  "kernelspec": {
   "display_name": "Python 3",
   "language": "python",
   "name": "python3"
  },
  "language_info": {
   "codemirror_mode": {
    "name": "ipython",
    "version": 3
   },
   "file_extension": ".py",
   "mimetype": "text/x-python",
   "name": "python",
   "nbconvert_exporter": "python",
   "pygments_lexer": "ipython3",
   "version": "3.6.3"
  }
 },
 "nbformat": 4,
 "nbformat_minor": 2
}
