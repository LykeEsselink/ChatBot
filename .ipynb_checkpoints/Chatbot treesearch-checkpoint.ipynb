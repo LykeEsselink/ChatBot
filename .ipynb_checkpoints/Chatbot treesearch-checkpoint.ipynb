{
 "cells": [
  {
   "cell_type": "code",
   "execution_count": 19,
   "metadata": {},
   "outputs": [],
   "source": [
    "%run Vector.ipynb"
   ]
  },
  {
   "cell_type": "code",
   "execution_count": 32,
   "metadata": {
    "collapsed": true
   },
   "outputs": [],
   "source": [
    "np.set_printoptions(threshold=10) #np.inf"
   ]
  },
  {
   "cell_type": "markdown",
   "metadata": {},
   "source": [
    "## Input "
   ]
  },
  {
   "cell_type": "markdown",
   "metadata": {},
   "source": [
    "Dictionary:\n",
    "\n",
    "    Language (int):\n",
    "        0 = Nederlands       \n",
    "        1 = Engels\n",
    "              \n",
    "    Type (int):  \n",
    "        0 = Onbekend      \n",
    "        1 = Wie        \n",
    "        2 = Wat        \n",
    "        3 = Waar        \n",
    "        4 = Waarom        \n",
    "        5 = Wanneer        \n",
    "        6 = Hoe        \n",
    "        7 = Welke        \n",
    "        \n",
    "    Level (str):        \n",
    "        Studie        \n",
    "        Faculteit        \n",
    "        UvA        \n",
    "        None        \n",
    "        \n",
    "    Keywords (set):        \n",
    "        {<keyword_1>, ..., <keyword_n>}        \n",
    "        \n",
    "    Source (str):\n",
    "        <Oorspronkelijke zin>"
   ]
  },
  {
   "cell_type": "markdown",
   "metadata": {},
   "source": [
    "We assume that for this specific problem (only searching the tree we have established) we actually only need the keywords provided from the input query. The reason for this is that the keywords of the articles we have are a mix of both Dutch and English and will therefore automatically return the right URL. The type is irrelevant for this problem as we only have access to the keywords of the articles because we have not scraped the entire texts. Therefore, we are unable to parse what kind of question a person is asking, this will be handled in our other solution of using Watson to find the right text. \n",
    "The source is also not relevant as we have the keywords necessary."
   ]
  },
  {
   "cell_type": "code",
   "execution_count": 87,
   "metadata": {
    "collapsed": true
   },
   "outputs": [],
   "source": [
    "query = {'Language':0, \n",
    "         'Type':0, \n",
    "         'Level':'Kunstmatige intelligentie (bachelor)', \n",
    "         'Keywords':set(['laptop', 'eisen', 'kunstmatige', 'intelligentie']), \n",
    "         'Source':'Wat zijn de laptop eisen voor kunstmatige intelligentie?'}"
   ]
  },
  {
   "cell_type": "code",
   "execution_count": 108,
   "metadata": {},
   "outputs": [],
   "source": [
    "def analyse_query(query):\n",
    "    keywords = list(query.get('Keywords'))\n",
    "    level = query.get('Level')\n",
    "    queryvec = vector(keywords, generalvec)\n",
    "    return queryvec, level\n",
    "#pprint(queryvec)\n",
    "#print(level)"
   ]
  },
  {
   "cell_type": "code",
   "execution_count": 104,
   "metadata": {},
   "outputs": [],
   "source": [
    "def search_tree(data, queryvec, level):\n",
    "    topdict = {}\n",
    "    value = []\n",
    "    highest = 0\n",
    "    for faculty, studies in data.items():\n",
    "        for study, az_links in studies.items():\n",
    "            #if study == level:\n",
    "            for article, articlevec in az_links.items():\n",
    "                cosinesim = 1 - cs.distance.cosine(articlevec, queryvec)\n",
    "                if cosinesim > highest:\n",
    "                    #highest = cosinesim\n",
    "                    topdict.update({article: cosinesim})\n",
    "    toplinks = sorted(topdict, key=topdict.get, reverse=True)\n",
    "    return toplinks, topdict\n",
    "\n",
    "toplinks, topdict = search_tree(data, queryvec, level)"
   ]
  },
  {
   "cell_type": "code",
   "execution_count": 107,
   "metadata": {},
   "outputs": [],
   "source": [
    "def topresults(toplinks, topdict, n):\n",
    "    counter = 0\n",
    "    topndict = {}\n",
    "    for toplink in toplinks[:n]:\n",
    "        for link, score in topdict.items():\n",
    "            if toplink == link:\n",
    "                topndict[link] = score\n",
    "    return topndict\n",
    "\n",
    "topndict = topresults(toplinks, topdict, 10)\n",
    "#print(topndict)"
   ]
  },
  {
   "cell_type": "code",
   "execution_count": null,
   "metadata": {
    "collapsed": true
   },
   "outputs": [],
   "source": [
    "def main(query, data, n):\n",
    "    queryvec, level = analyse_query(query)\n",
    "    toplinks, topdict = search_tree(data, queryvec, level)\n",
    "    topndict = topresults(toplinks, topdict, n)\n",
    "    return topndict"
   ]
  }
 ],
 "metadata": {
  "kernelspec": {
   "display_name": "Python 3",
   "language": "python",
   "name": "python3"
  },
  "language_info": {
   "codemirror_mode": {
    "name": "ipython",
    "version": 3
   },
   "file_extension": ".py",
   "mimetype": "text/x-python",
   "name": "python",
   "nbconvert_exporter": "python",
   "pygments_lexer": "ipython3",
   "version": "3.6.3"
  }
 },
 "nbformat": 4,
 "nbformat_minor": 2
}
