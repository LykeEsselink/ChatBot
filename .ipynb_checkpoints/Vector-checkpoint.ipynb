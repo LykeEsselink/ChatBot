{
 "cells": [
  {
   "cell_type": "code",
   "execution_count": 3,
   "metadata": {
    "collapsed": true
   },
   "outputs": [],
   "source": [
    "import numpy as np"
   ]
  },
  {
   "cell_type": "code",
   "execution_count": 4,
   "metadata": {
    "collapsed": true
   },
   "outputs": [],
   "source": [
    "def general_vector(dictionary):\n",
    "    # first make a set to ensure no duplicates are added to the vector\n",
    "    general_vector = set()\n",
    "    # self explanatory\n",
    "    for factulty in dictionary:\n",
    "        for study in faculty:\n",
    "            # study consists of a dict where the keys are lists of keywords and the URLs are the values for those keys\n",
    "            for keywords in study:\n",
    "                # for each keyword in this list\n",
    "                for keyword in keywords:\n",
    "                    general_vector.append(keyword)\n",
    "    # convert the set to a list for easier computation\n",
    "    return general_vector.tolist()"
   ]
  },
  {
   "cell_type": "code",
   "execution_count": null,
   "metadata": {
    "collapsed": true
   },
   "outputs": [],
   "source": [
    "# test for making the general vector\n",
    "testdict = {'fdg': {'full': 'Faculteit der Geneeskunde',\n",
    "  'short': 'FdG',\n",
    "  'studies': {'Geneeskunde (bachelor)': {['test1', 'test2'] : 'http://student.uva.nl/gnk/az', ['test3', 'test4', 'test5'] : 'http://student.uva.nl/gnk/az'},\n",
    "   'Geneeskunde (master)': {['test3', 'test6', 'test7', 'test1']: 'http://student.uva.nl/mgnk/az', 'test4': 'http://student.uva.nl/mgnk/az'}}}}\n",
    "\n",
    "testgv = "
   ]
  },
  {
   "cell_type": "code",
   "execution_count": 26,
   "metadata": {},
   "outputs": [],
   "source": [
    "def URL_vector(URL_keywords, general_vector):\n",
    "    # URL_keywords is a list of keywords for a certain URL we want a vector for\n",
    "    URL_vector = np.zeros(len(general_vector))\n",
    "    # loops through the (now zero) values of the URL vector\n",
    "    for i, val in enumerate(URL_vector):\n",
    "        # loops through the given keywords of this URL\n",
    "        for keyword in URL_keywords:\n",
    "            # if an article keyword matches a keyword in our general vector\n",
    "            if keyword == general_vector[i]:\n",
    "                # change the value of the URL vector to be 1 in the same place as the general vector\n",
    "                URL_vector[i] = 1\n",
    "    return URL_vector"
   ]
  },
  {
   "cell_type": "code",
   "execution_count": 27,
   "metadata": {},
   "outputs": [
    {
     "name": "stdout",
     "output_type": "stream",
     "text": [
      "[ 0.  1.  0.  1.]\n"
     ]
    }
   ],
   "source": [
    "# test for making a vector of an A-Z article\n",
    "gv = ['test', 'one', 'two', 'three']\n",
    "article = ['one', 'three', 'five']\n",
    "testvector = URL_vector(article, gv)\n",
    "print(testvector)"
   ]
  },
  {
   "cell_type": "code",
   "execution_count": null,
   "metadata": {
    "collapsed": true
   },
   "outputs": [],
   "source": []
  }
 ],
 "metadata": {
  "kernelspec": {
   "display_name": "Python 3",
   "language": "python",
   "name": "python3"
  },
  "language_info": {
   "codemirror_mode": {
    "name": "ipython",
    "version": 3
   },
   "file_extension": ".py",
   "mimetype": "text/x-python",
   "name": "python",
   "nbconvert_exporter": "python",
   "pygments_lexer": "ipython3",
   "version": "3.6.3"
  }
 },
 "nbformat": 4,
 "nbformat_minor": 2
}
