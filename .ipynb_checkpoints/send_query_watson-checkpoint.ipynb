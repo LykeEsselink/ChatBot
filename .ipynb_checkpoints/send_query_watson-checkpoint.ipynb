{
 "cells": [
  {
   "cell_type": "code",
   "execution_count": 40,
   "metadata": {
    "collapsed": true
   },
   "outputs": [],
   "source": [
    "import os\n",
    "import json\n",
    "from watson_developer_cloud import DiscoveryV1\n",
    "\n",
    "def send_query(user_query):\n",
    "    discovery = DiscoveryV1(\n",
    "        version=\"2018-03-05\",\n",
    "        username=\"044cea39-4515-404b-a5c1-3e7b216e1635\",\n",
    "        password=\"RK5rIKZ01yIf\"\n",
    "    )\n",
    "    #, return_fields='text'\n",
    "    my_query = discovery.query(environment_id='26410a73-bf30-47c5-85cb-538a14797fd2',\n",
    "                                collection_id='d18f374c-3852-4410-9863-2f91496898a1',\n",
    "                                query=user_query, return_fields=['passage_text'],\n",
    "                                passages=True,\n",
    "                                count=1)\n",
    "\n",
    "\n",
    "\n",
    "    qr1 = json.loads(json.dumps(my_query, indent=2))\n",
    "    print(qr1['matching_results'])\n",
    "    \n",
    "    st = [] \n",
    "    for dicts in qr1['passages']:\n",
    "        st.append([dicts['passage_score'], dicts['passage_text']])\n",
    "        \n",
    "    return(st)"
   ]
  },
  {
   "cell_type": "code",
   "execution_count": 41,
   "metadata": {},
   "outputs": [
    {
     "name": "stdout",
     "output_type": "stream",
     "text": [
      "43\n"
     ]
    },
    {
     "data": {
      "text/plain": [
       "[[15.228147437660425,\n",
       "  'UvA students who want to apply for a disabled parking space need to contact Student Services.UvA Science Park car park Science Park students and visitors can use the car park for a fee. Other locations There are no dedicated parking spaces at any of the other UvA locations.'],\n",
       " [12.816501805190171,\n",
       "  '. Amsterdam Science Park The library information desk serves as a service point at the Amsterdam Science Park. It is open Monday to Friday from 09:30 to 22:00. Academic Medical Center (AMC) The AMC service point can be found at the library information desk.'],\n",
       " [12.693295105538873,\n",
       "  'There are also charging points at a number of UvA locations: Allard Pierson Museum: Oude Turfmarkt 127, in restaurant AUC: Science Park 113, in entrance Duisenberg school of finance, Gustav Mahlerplein 117, 1st floor FNWI: Science Park 904, behind entrance IWO: Meibergdreef 29, 4th floor OMHP: Oude Manhuispoort 4-6, central hall P.C.'],\n",
       " [12.269055448885993,\n",
       "  'and mopeds on the Nieuwe Achtergracht between CREA and building J/K and in the underground bicycle park in building E. Science Park Campus bicycle parking facilities There are unsheltered bike racks at the front of the building as well as racks under building section F.'],\n",
       " [12.269055448885993,\n",
       "  'Accessibility by car is regarded as supplementary. The Science Park is the only location of the UvA with its own car park. Medical grounds Staff and students may be eligible for a parking space on medical grounds. To apply, staff need to contact the health and safety officer at the relevant campus.'],\n",
       " [11.118925802999897,\n",
       "  'Science Park Campus bicycle parking facilities There are unsheltered bike racks at the front of the building as well as racks under building section F. Science Park has facilities to accommodate approximately 2,000 bikes. There are also spaces for scooters and carrier cycles. Parking'],\n",
       " [9.24468982669455,\n",
       "  'Science Park get student discounts offered by the University Sports Centre (USC), the student cultural organisation CREA, etc. make payments: at the vending machines selling hot and cold drinks'],\n",
       " [9.24468982669455,\n",
       "  'You can top up your student ID card via myNetPay (new window), and at one of the top-up points at the larger UvA locations: Allard Pierson Museum: Oude Turfmarkt 127, in restaurant AUC: Science Park 113, in entrance Duisenberg school'],\n",
       " [9.18041438445367,\n",
       "  'Roeterseiland campus REC JK, ruimte B93 City centre P.C. Hoofthuis, room K09A Oudemanhuispoort, section E, room EK12 Science Park Building B; room B1.26 House rules In the contemplation rooms the following house rules apply: The contemplation room is open to staff and students.'],\n",
       " [9.124414477972481, 'bike parking']]"
      ]
     },
     "execution_count": 41,
     "metadata": {},
     "output_type": "execute_result"
    }
   ],
   "source": [
    "send_query(\"Where is Science Park?\")"
   ]
  },
  {
   "cell_type": "code",
   "execution_count": 43,
   "metadata": {},
   "outputs": [
    {
     "name": "stdout",
     "output_type": "stream",
     "text": [
      "20\n"
     ]
    },
    {
     "data": {
      "text/plain": [
       "[[9.866860370986448, 'what can i study'],\n",
       " [6.100343140679091,\n",
       "  'What is the difference between a student ID card and Proof of Enrolment? What should I do in the event of loss or theft? Questions? What do I need a student ID card for? You can use your student ID card to: confirm your identity when attending'],\n",
       " [4.778303216029611,\n",
       "  'Health and wellbeing Find out what health and wellbeing facilities are available to you as a student. Go to the themes Published by University of Amsterdam 2 May 2018'],\n",
       " [4.6024028953748,\n",
       "  'By default, the printers in the study centres are set to double-sided printing. If you wish, you can also print your document single-sided. A black and white print costs €0.05 and a colour print €0.15. Scanning is free. What is the printing procedure?'],\n",
       " [4.6024028953748,\n",
       "  \"Switching degree programmes Are you doubting about your choice of Bachelor's programme or have you already stopped studying? On this page: Guidance For whom? What we offer Keep in mind: switching programmes and UvA Matching Choosing a Master’s programme?\"],\n",
       " [4.6024028953748,\n",
       "  'Bicycle parking The UvA maintains all bicycle parking facilities and bicycle racks on UvA sites. At some sites, additional bicycle racks are also provided along public roadways. What can I expect?'],\n",
       " [4.6024028953748,\n",
       "  '30 10 Science 56860 66986 Biology (BSc) Earth Sciences (MSc) 23 20 Tuition fees What does flexible learning cost? Flexible learning means that you will pay per course: The tuition fees payable are based on the number of ECTS credits per course, plus a surcharge of 15%.'],\n",
       " [4.578325938578071,\n",
       "  \"Emergencies and first aid What should you do in case of an emergency or an accident? Emergencies In the event of an emergency, such as a fire, serious flooding, etc., call the UvA's emergency number +31 (0)20 525 2222.\"],\n",
       " [4.578325938578071,\n",
       "  '/veilig (in Dutch). UvA.nl/veilig (in Dutch) What kind of things should you report? You should report anything that you think may pose a danger. For example: an obstructed emergency exit a dangerous'],\n",
       " [4.578325938578071,\n",
       "  'How do I apply for a student ID card? Service Points UvA How and where do I top up credit on my student ID Card? How long will the student ID card remain valid? What is the difference between a student ID card and Proof of Enrolment?']]"
      ]
     },
     "execution_count": 43,
     "metadata": {},
     "output_type": "execute_result"
    }
   ],
   "source": [
    "send_query(\"What are memes?\")"
   ]
  },
  {
   "cell_type": "code",
   "execution_count": 44,
   "metadata": {},
   "outputs": [
    {
     "name": "stdout",
     "output_type": "stream",
     "text": [
      "68\n"
     ]
    },
    {
     "data": {
      "text/plain": [
       "[[41.305552633045835,\n",
       "  'What is the difference between a student ID card and Proof of Enrolment? What should I do in the event of loss or theft? Questions? What do I need a student ID card for? You can use your student ID card to: confirm your identity when attending'],\n",
       " [40.3885134651901,\n",
       "  'How do I apply for a student ID card? Service Points UvA How and where do I top up credit on my student ID Card? How long will the student ID card remain valid? What is the difference between a student ID card and Proof of Enrolment?'],\n",
       " [38.54945545124121,\n",
       "  'You will also need it to borrow books, and you can use the credit on your student ID card to pay for beverages purchased from the coffee and tea vending machines and when using printers. On this page: What do I need a student ID card for? How do I apply for a student ID card?'],\n",
       " [22.786463288204402,\n",
       "  'student id card activation service point card validate'],\n",
       " [19.538841911621244,\n",
       "  '. The pin code is always valid until Sunday night. You will need to create a new pin code every Monday morning. Payment by student ID card You can only pay for printing and copying with a valid student ID card that has sufficient credit.'],\n",
       " [18.482873442129613,\n",
       "  'For purchases from the sweets and soft drink machines, you can pay using the credit on your student ID card. To pay at the University Library desks, you can pay using the credit on your student ID card and your bank debit card. ATMs ATMs are located'],\n",
       " [18.131856407343683, 'what can i study'],\n",
       " [18.095469409019078,\n",
       "  'study uva id enrolment and termination of enrolment admissions and enrolment uva card id card'],\n",
       " [17.490677518236954,\n",
       "  'If you submit your request after 31 May, your enrolment will not be terminated until 31 August. 2. Send back your student ID card Please send your student ID card to the following address as soon as you receive word from'],\n",
       " [16.93509053819493,\n",
       "  'Working in the Netherlands Information for international students On this page: Language and permits Dutch health insurance is mandatory Do I need a work permit? Citizen Service Number (BSN) Dutch labour market How to find a job?']]"
      ]
     },
     "execution_count": 44,
     "metadata": {},
     "output_type": "execute_result"
    }
   ],
   "source": [
    "send_query(\"What do I need my student ID card for?\")"
   ]
  },
  {
   "cell_type": "code",
   "execution_count": 45,
   "metadata": {},
   "outputs": [
    {
     "name": "stdout",
     "output_type": "stream",
     "text": [
      "62\n"
     ]
    },
    {
     "data": {
      "text/plain": [
       "[[19.571199411995135,\n",
       "  'UvA students who want to apply for a disabled parking space need to contact Student Services.UvA Science Park car park Science Park students and visitors can use the car park for a fee. Other locations There are no dedicated parking spaces at any of the other UvA locations.'],\n",
       " [18.042512584240868, 'what can i study'],\n",
       " [16.820835964011174,\n",
       "  'Bicycle parking The UvA maintains all bicycle parking facilities and bicycle racks on UvA sites. At some sites, additional bicycle racks are also provided along public roadways. What can I expect?'],\n",
       " [13.731830293430185,\n",
       "  'There are also charging points at a number of UvA locations: Allard Pierson Museum: Oude Turfmarkt 127, in restaurant AUC: Science Park 113, in entrance Duisenberg school of finance, Gustav Mahlerplein 117, 1st floor FNWI: Science Park 904, behind entrance IWO: Meibergdreef 29, 4th floor OMHP: Oude Manhuispoort 4-6, central hall P.C.'],\n",
       " [13.232394822742798,\n",
       "  'and mopeds on the Nieuwe Achtergracht between CREA and building J/K and in the underground bicycle park in building E. Science Park Campus bicycle parking facilities There are unsheltered bike racks at the front of the building as well as racks under building section F.'],\n",
       " [13.232394822742798,\n",
       "  'Accessibility by car is regarded as supplementary. The Science Park is the only location of the UvA with its own car park. Medical grounds Staff and students may be eligible for a parking space on medical grounds. To apply, staff need to contact the health and safety officer at the relevant campus.'],\n",
       " [11.848368037340258,\n",
       "  'To apply, staff need to contact the health and safety officer at the relevant campus. Students should contact Student Services. Parking at Roeterseiland Campus Disabled persons with a valid parking badge can park for free in the designated parking spaces around the Roeterseiland Campus.'],\n",
       " [11.126854809817534,\n",
       "  'You will also need it to borrow books, and you can use the credit on your student ID card to pay for beverages purchased from the coffee and tea vending machines and when using printers. On this page: What do I need a student ID card for? How do I apply for a student ID card?'],\n",
       " [11.081477421321988,\n",
       "  'What is the difference between a student ID card and Proof of Enrolment? What should I do in the event of loss or theft? Questions? What do I need a student ID card for? You can use your student ID card to: confirm your identity when attending'],\n",
       " [11.036980298973226,\n",
       "  'UvA support and counselling may be different from what you have been provided with during your preliminary education. Loading video.. How can I apply for a provision? Student counsellors To request an examination or another arrangement, you can make an appointment with a student counsellor. This can be through a referral from the student adviser or directly.']]"
      ]
     },
     "execution_count": 45,
     "metadata": {},
     "output_type": "execute_result"
    }
   ],
   "source": [
    "send_query(\"Can I bring a dog to Science Park?\")"
   ]
  },
  {
   "cell_type": "code",
   "execution_count": null,
   "metadata": {
    "collapsed": true
   },
   "outputs": [],
   "source": []
  },
  {
   "cell_type": "code",
   "execution_count": null,
   "metadata": {
    "collapsed": true
   },
   "outputs": [],
   "source": []
  },
  {
   "cell_type": "code",
   "execution_count": null,
   "metadata": {
    "collapsed": true
   },
   "outputs": [],
   "source": []
  }
 ],
 "metadata": {
  "kernelspec": {
   "display_name": "Python 3",
   "language": "python",
   "name": "python3"
  },
  "language_info": {
   "codemirror_mode": {
    "name": "ipython",
    "version": 3
   },
   "file_extension": ".py",
   "mimetype": "text/x-python",
   "name": "python",
   "nbconvert_exporter": "python",
   "pygments_lexer": "ipython3",
   "version": "3.6.3"
  }
 },
 "nbformat": 4,
 "nbformat_minor": 2
}
